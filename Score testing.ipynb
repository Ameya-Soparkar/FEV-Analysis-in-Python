{
 "cells": [
  {
   "cell_type": "code",
   "execution_count": 48,
   "metadata": {
    "scrolled": true
   },
   "outputs": [
    {
     "data": {
      "text/html": [
       "<div>\n",
       "<style scoped>\n",
       "    .dataframe tbody tr th:only-of-type {\n",
       "        vertical-align: middle;\n",
       "    }\n",
       "\n",
       "    .dataframe tbody tr th {\n",
       "        vertical-align: top;\n",
       "    }\n",
       "\n",
       "    .dataframe thead th {\n",
       "        text-align: right;\n",
       "    }\n",
       "</style>\n",
       "<table border=\"1\" class=\"dataframe\">\n",
       "  <thead>\n",
       "    <tr style=\"text-align: right;\">\n",
       "      <th></th>\n",
       "      <th>AGE</th>\n",
       "      <th>FEV</th>\n",
       "      <th>HEIGHT</th>\n",
       "      <th>SEX</th>\n",
       "      <th>SMOKE</th>\n",
       "      <th>SEX*SMOKE</th>\n",
       "      <th>SMOKE*AGE</th>\n",
       "    </tr>\n",
       "  </thead>\n",
       "  <tbody>\n",
       "    <tr>\n",
       "      <th>0</th>\n",
       "      <td>9</td>\n",
       "      <td>1.708</td>\n",
       "      <td>57.0</td>\n",
       "      <td>0</td>\n",
       "      <td>0</td>\n",
       "      <td>0</td>\n",
       "      <td>0</td>\n",
       "    </tr>\n",
       "    <tr>\n",
       "      <th>1</th>\n",
       "      <td>8</td>\n",
       "      <td>1.724</td>\n",
       "      <td>67.5</td>\n",
       "      <td>0</td>\n",
       "      <td>0</td>\n",
       "      <td>0</td>\n",
       "      <td>0</td>\n",
       "    </tr>\n",
       "    <tr>\n",
       "      <th>2</th>\n",
       "      <td>7</td>\n",
       "      <td>1.720</td>\n",
       "      <td>54.5</td>\n",
       "      <td>0</td>\n",
       "      <td>0</td>\n",
       "      <td>0</td>\n",
       "      <td>0</td>\n",
       "    </tr>\n",
       "    <tr>\n",
       "      <th>3</th>\n",
       "      <td>9</td>\n",
       "      <td>1.558</td>\n",
       "      <td>53.0</td>\n",
       "      <td>1</td>\n",
       "      <td>0</td>\n",
       "      <td>0</td>\n",
       "      <td>0</td>\n",
       "    </tr>\n",
       "    <tr>\n",
       "      <th>4</th>\n",
       "      <td>9</td>\n",
       "      <td>1.895</td>\n",
       "      <td>57.0</td>\n",
       "      <td>1</td>\n",
       "      <td>0</td>\n",
       "      <td>0</td>\n",
       "      <td>0</td>\n",
       "    </tr>\n",
       "    <tr>\n",
       "      <th>...</th>\n",
       "      <td>...</td>\n",
       "      <td>...</td>\n",
       "      <td>...</td>\n",
       "      <td>...</td>\n",
       "      <td>...</td>\n",
       "      <td>...</td>\n",
       "      <td>...</td>\n",
       "    </tr>\n",
       "    <tr>\n",
       "      <th>649</th>\n",
       "      <td>16</td>\n",
       "      <td>4.270</td>\n",
       "      <td>67.0</td>\n",
       "      <td>1</td>\n",
       "      <td>1</td>\n",
       "      <td>1</td>\n",
       "      <td>16</td>\n",
       "    </tr>\n",
       "    <tr>\n",
       "      <th>650</th>\n",
       "      <td>15</td>\n",
       "      <td>3.727</td>\n",
       "      <td>68.0</td>\n",
       "      <td>1</td>\n",
       "      <td>1</td>\n",
       "      <td>1</td>\n",
       "      <td>15</td>\n",
       "    </tr>\n",
       "    <tr>\n",
       "      <th>651</th>\n",
       "      <td>18</td>\n",
       "      <td>2.853</td>\n",
       "      <td>60.0</td>\n",
       "      <td>0</td>\n",
       "      <td>0</td>\n",
       "      <td>0</td>\n",
       "      <td>0</td>\n",
       "    </tr>\n",
       "    <tr>\n",
       "      <th>652</th>\n",
       "      <td>16</td>\n",
       "      <td>2.795</td>\n",
       "      <td>63.0</td>\n",
       "      <td>0</td>\n",
       "      <td>1</td>\n",
       "      <td>0</td>\n",
       "      <td>16</td>\n",
       "    </tr>\n",
       "    <tr>\n",
       "      <th>653</th>\n",
       "      <td>15</td>\n",
       "      <td>3.211</td>\n",
       "      <td>66.5</td>\n",
       "      <td>0</td>\n",
       "      <td>0</td>\n",
       "      <td>0</td>\n",
       "      <td>0</td>\n",
       "    </tr>\n",
       "  </tbody>\n",
       "</table>\n",
       "<p>654 rows × 7 columns</p>\n",
       "</div>"
      ],
      "text/plain": [
       "     AGE    FEV  HEIGHT  SEX  SMOKE  SEX*SMOKE  SMOKE*AGE\n",
       "0      9  1.708    57.0    0      0          0          0\n",
       "1      8  1.724    67.5    0      0          0          0\n",
       "2      7  1.720    54.5    0      0          0          0\n",
       "3      9  1.558    53.0    1      0          0          0\n",
       "4      9  1.895    57.0    1      0          0          0\n",
       "..   ...    ...     ...  ...    ...        ...        ...\n",
       "649   16  4.270    67.0    1      1          1         16\n",
       "650   15  3.727    68.0    1      1          1         15\n",
       "651   18  2.853    60.0    0      0          0          0\n",
       "652   16  2.795    63.0    0      1          0         16\n",
       "653   15  3.211    66.5    0      0          0          0\n",
       "\n",
       "[654 rows x 7 columns]"
      ]
     },
     "execution_count": 48,
     "metadata": {},
     "output_type": "execute_result"
    }
   ],
   "source": [
    "import pandas as pd\n",
    "from sklearn.model_selection import train_test_split\n",
    "from sklearn import linear_model\n",
    "from sklearn.linear_model import LinearRegression\n",
    "import numpy as np\n",
    "import matplotlib.pyplot as plt\n",
    "import seaborn as sns\n",
    "\n",
    "df= pd.read_csv('fev.txt', usecols=['AGE', 'FEV', 'HEIGHT','SEX', 'SMOKE'])\n",
    "df['SMOKE'] = df['SMOKE'].replace({2:0})\n",
    "df['SEX'] = df['SEX'].replace({2:0})\n",
    "df['SEX*SMOKE']=df['SEX']*df['SMOKE']\n",
    "df['SMOKE*AGE']=df['SMOKE']*df['AGE']\n",
    "df"
   ]
  },
  {
   "cell_type": "code",
   "execution_count": 69,
   "metadata": {
    "scrolled": true
   },
   "outputs": [
    {
     "data": {
      "text/plain": [
       "0.5921420114778191"
      ]
     },
     "execution_count": 69,
     "metadata": {},
     "output_type": "execute_result"
    }
   ],
   "source": [
    "l=[]\n",
    "for i in range(0,100):\n",
    "    X = df[['AGE', 'SMOKE', 'SEX', 'SEX*SMOKE']]\n",
    "    y = df['FEV']\n",
    "    X_train, X_test, y_train, y_test = train_test_split(X, y, test_size = 0.20) \n",
    "    regr = LinearRegression() \n",
    "    regr.fit(X_train, y_train) \n",
    "    l.append(regr.score(X_test, y_test))\n",
    "np.mean(l)"
   ]
  },
  {
   "cell_type": "code",
   "execution_count": 4,
   "metadata": {},
   "outputs": [
    {
     "data": {
      "image/png": "[encoded data removed]",
      "text/plain": [
       "<Figure size 432x288 with 1 Axes>"
      ]
     },
     "metadata": {},
     "output_type": "display_data"
    }
   ],
   "source": [
    "sns.set_style(\"darkgrid\")\n",
    "plt.plot(l)\n",
    "plt.show()"
   ]
  },
  {
   "cell_type": "code",
   "execution_count": 5,
   "metadata": {},
   "outputs": [
    {
     "data": {
      "text/plain": [
       "0.6014848363285418"
      ]
     },
     "execution_count": 5,
     "metadata": {},
     "output_type": "execute_result"
    }
   ],
   "source": [
    "m=[]\n",
    "for i in range(0,100):\n",
    "    X = df[['AGE', 'SMOKE', 'SEX']]\n",
    "    y = df['FEV']\n",
    "    X_train, X_test, y_train, y_test = train_test_split(X, y, test_size = 0.20) \n",
    "    regr = LinearRegression() \n",
    "    regr.fit(X_train, y_train) \n",
    "    m.append(regr.score(X_test, y_test))\n",
    "np.mean(m)"
   ]
  },
  {
   "cell_type": "code",
   "execution_count": 6,
   "metadata": {},
   "outputs": [
    {
     "data": {
      "image/png": "[encoded data removed]",
      "text/plain": [
       "<Figure size 432x288 with 1 Axes>"
      ]
     },
     "metadata": {},
     "output_type": "display_data"
    }
   ],
   "source": [
    "sns.set_style(\"darkgrid\")\n",
    "plt.plot(m)\n",
    "plt.show()"
   ]
  },
  {
   "cell_type": "code",
   "execution_count": 7,
   "metadata": {},
   "outputs": [],
   "source": [
    "df['log'] = np.log(df['FEV'])"
   ]
  },
  {
   "cell_type": "code",
   "execution_count": 9,
   "metadata": {},
   "outputs": [
    {
     "data": {
      "text/html": [
       "<div>\n",
       "<style scoped>\n",
       "    .dataframe tbody tr th:only-of-type {\n",
       "        vertical-align: middle;\n",
       "    }\n",
       "\n",
       "    .dataframe tbody tr th {\n",
       "        vertical-align: top;\n",
       "    }\n",
       "\n",
       "    .dataframe thead th {\n",
       "        text-align: right;\n",
       "    }\n",
       "</style>\n",
       "<table border=\"1\" class=\"dataframe\">\n",
       "  <thead>\n",
       "    <tr style=\"text-align: right;\">\n",
       "      <th></th>\n",
       "      <th>AGE</th>\n",
       "      <th>FEV</th>\n",
       "      <th>HEIGHT</th>\n",
       "      <th>SEX</th>\n",
       "      <th>SMOKE</th>\n",
       "      <th>SEX*SMOKE</th>\n",
       "      <th>log</th>\n",
       "    </tr>\n",
       "  </thead>\n",
       "  <tbody>\n",
       "    <tr>\n",
       "      <th>0</th>\n",
       "      <td>9</td>\n",
       "      <td>1.708</td>\n",
       "      <td>57.0</td>\n",
       "      <td>0</td>\n",
       "      <td>0</td>\n",
       "      <td>0</td>\n",
       "      <td>0.535323</td>\n",
       "    </tr>\n",
       "    <tr>\n",
       "      <th>1</th>\n",
       "      <td>8</td>\n",
       "      <td>1.724</td>\n",
       "      <td>67.5</td>\n",
       "      <td>0</td>\n",
       "      <td>0</td>\n",
       "      <td>0</td>\n",
       "      <td>0.544647</td>\n",
       "    </tr>\n",
       "    <tr>\n",
       "      <th>2</th>\n",
       "      <td>7</td>\n",
       "      <td>1.720</td>\n",
       "      <td>54.5</td>\n",
       "      <td>0</td>\n",
       "      <td>0</td>\n",
       "      <td>0</td>\n",
       "      <td>0.542324</td>\n",
       "    </tr>\n",
       "    <tr>\n",
       "      <th>3</th>\n",
       "      <td>9</td>\n",
       "      <td>1.558</td>\n",
       "      <td>53.0</td>\n",
       "      <td>1</td>\n",
       "      <td>0</td>\n",
       "      <td>0</td>\n",
       "      <td>0.443403</td>\n",
       "    </tr>\n",
       "    <tr>\n",
       "      <th>4</th>\n",
       "      <td>9</td>\n",
       "      <td>1.895</td>\n",
       "      <td>57.0</td>\n",
       "      <td>1</td>\n",
       "      <td>0</td>\n",
       "      <td>0</td>\n",
       "      <td>0.639219</td>\n",
       "    </tr>\n",
       "  </tbody>\n",
       "</table>\n",
       "</div>"
      ],
      "text/plain": [
       "   AGE    FEV  HEIGHT  SEX  SMOKE  SEX*SMOKE       log\n",
       "0    9  1.708    57.0    0      0          0  0.535323\n",
       "1    8  1.724    67.5    0      0          0  0.544647\n",
       "2    7  1.720    54.5    0      0          0  0.542324\n",
       "3    9  1.558    53.0    1      0          0  0.443403\n",
       "4    9  1.895    57.0    1      0          0  0.639219"
      ]
     },
     "execution_count": 9,
     "metadata": {},
     "output_type": "execute_result"
    }
   ],
   "source": [
    "df.head()"
   ]
  },
  {
   "cell_type": "code",
   "execution_count": 11,
   "metadata": {},
   "outputs": [
    {
     "data": {
      "text/plain": [
       "0.6080074131649433"
      ]
     },
     "execution_count": 11,
     "metadata": {},
     "output_type": "execute_result"
    }
   ],
   "source": [
    "t=[]\n",
    "for i in range(0,100):\n",
    "    X = df[['AGE', 'SMOKE', 'SEX', 'SEX*SMOKE']]\n",
    "    y = df['log']\n",
    "    X_train, X_test, y_train, y_test = train_test_split(X, y, test_size = 0.20) \n",
    "    regr = LinearRegression() \n",
    "    regr.fit(X_train, y_train) \n",
    "    t.append(regr.score(X_test, y_test))\n",
    "np.mean(t)"
   ]
  },
  {
   "cell_type": "code",
   "execution_count": 13,
   "metadata": {},
   "outputs": [
    {
     "data": {
      "text/plain": [
       "0.609001747704395"
      ]
     },
     "execution_count": 13,
     "metadata": {},
     "output_type": "execute_result"
    }
   ],
   "source": [
    "s=[]\n",
    "for i in range(0,100):\n",
    "    X = df[['AGE', 'SMOKE', 'SEX']]\n",
    "    y = df['log']\n",
    "    X_train, X_test, y_train, y_test = train_test_split(X, y, test_size = 0.20) \n",
    "    regr = LinearRegression() \n",
    "    regr.fit(X_train, y_train) \n",
    "    s.append(regr.score(X_test, y_test))\n",
    "np.mean(s)"
   ]
  },
  {
   "cell_type": "code",
   "execution_count": null,
   "metadata": {},
   "outputs": [],
   "source": []
  },
  {
   "cell_type": "code",
   "execution_count": 64,
   "metadata": {},
   "outputs": [
    {
     "data": {
      "text/plain": [
       "0.6000210630302151"
      ]
     },
     "execution_count": 64,
     "metadata": {},
     "output_type": "execute_result"
    }
   ],
   "source": [
    "l=[]\n",
    "for i in range(0,100):\n",
    "    X = df[['SMOKE','AGE','SEX']]\n",
    "    y = df['FEV']\n",
    "    X_train, X_test, y_train, y_test = train_test_split(X, y, test_size = 0.20) \n",
    "    regr = LinearRegression() \n",
    "    regr.fit(X_train, y_train) \n",
    "    l.append(regr.score(X_test, y_test))\n",
    "np.mean(l)"
   ]
  },
  {
   "cell_type": "code",
   "execution_count": null,
   "metadata": {},
   "outputs": [],
   "source": []
  },
  {
   "cell_type": "code",
   "execution_count": null,
   "metadata": {},
   "outputs": [],
   "source": []
  },
  {
   "cell_type": "code",
   "execution_count": null,
   "metadata": {},
   "outputs": [],
   "source": []
  },
  {
   "cell_type": "code",
   "execution_count": null,
   "metadata": {},
   "outputs": [],
   "source": []
  },
  {
   "cell_type": "code",
   "execution_count": null,
   "metadata": {},
   "outputs": [],
   "source": []
  },
  {
   "cell_type": "code",
   "execution_count": null,
   "metadata": {},
   "outputs": [],
   "source": []
  },
  {
   "cell_type": "code",
   "execution_count": null,
   "metadata": {},
   "outputs": [],
   "source": []
  },
  {
   "cell_type": "code",
   "execution_count": null,
   "metadata": {},
   "outputs": [],
   "source": []
  },
  {
   "cell_type": "code",
   "execution_count": null,
   "metadata": {},
   "outputs": [],
   "source": []
  },
  {
   "cell_type": "code",
   "execution_count": null,
   "metadata": {},
   "outputs": [],
   "source": []
  },
  {
   "cell_type": "code",
   "execution_count": null,
   "metadata": {},
   "outputs": [],
   "source": [
    "import scipy.stats as stats\n",
    "import pylab\n",
    "from statsmodels.graphics.gofplots import ProbPlot\n",
    "\n",
    "st_residual = lin_reg_sam.get_influence().resid_studentized_internal\n",
    "\n",
    "stats.probplot(st_residual, dist=\"norm\", plot = pylab)\n",
    "\n",
    "plt.show()"
   ]
  },
  {
   "cell_type": "code",
   "execution_count": 165,
   "metadata": {
    "scrolled": true
   },
   "outputs": [
    {
     "name": "stdout",
     "output_type": "stream",
     "text": [
      "                            OLS Regression Results                            \n",
      "==============================================================================\n",
      "Dep. Variable:                    log   R-squared:                       0.622\n",
      "Model:                            OLS   Adj. R-squared:                  0.619\n",
      "Method:                 Least Squares   F-statistic:                     266.8\n",
      "Date:                Mon, 09 Nov 2020   Prob (F-statistic):          1.90e-135\n",
      "Time:                        15:53:21   Log-Likelihood:                 109.09\n",
      "No. Observations:                 654   AIC:                            -208.2\n",
      "Df Residuals:                     649   BIC:                            -185.8\n",
      "Df Model:                           4                                         \n",
      "Covariance Type:            nonrobust                                         \n",
      "==============================================================================\n",
      "                 coef    std err          t      P>|t|      [0.025      0.975]\n",
      "------------------------------------------------------------------------------\n",
      "const         -0.0121      0.031     -0.398      0.691      -0.072       0.048\n",
      "AGE            0.0896      0.003     30.009      0.000       0.084       0.095\n",
      "SMOKE         -0.0984      0.037     -2.658      0.008      -0.171      -0.026\n",
      "SEX            0.0884      0.017      5.205      0.000       0.055       0.122\n",
      "SEX*SMOKE      0.0610      0.055      1.114      0.266      -0.047       0.169\n",
      "==============================================================================\n",
      "Omnibus:                        6.206   Durbin-Watson:                   1.536\n",
      "Prob(Omnibus):                  0.045   Jarque-Bera (JB):                6.313\n",
      "Skew:                          -0.238   Prob(JB):                       0.0426\n",
      "Kurtosis:                       2.923   Cond. No.                         78.7\n",
      "==============================================================================\n",
      "\n",
      "Notes:\n",
      "[1] Standard Errors assume that the covariance matrix of the errors is correctly specified.\n"
     ]
    }
   ],
   "source": [
    "import warnings \n",
    "warnings.filterwarnings('ignore')\n",
    "import statsmodels.api as sm\n",
    "X = df[['AGE', 'SMOKE', 'SEX', 'SEX*SMOKE']]\n",
    "y = df['log']\n",
    "X_constant = sm.add_constant(X)\n",
    "lin_reg_saa =sm.OLS(y,X_constant).fit()\n",
    "print(lin_reg_saa.summary())"
   ]
  },
  {
   "cell_type": "code",
   "execution_count": 166,
   "metadata": {},
   "outputs": [
    {
     "data": {
      "text/plain": [
       "<matplotlib.axes._subplots.AxesSubplot at 0x15025ec8>"
      ]
     },
     "execution_count": 166,
     "metadata": {},
     "output_type": "execute_result"
    },
    {
     "data": {
      "image/png": "[encoded data removed]",
      "text/plain": [
       "<Figure size 432x288 with 1 Axes>"
      ]
     },
     "metadata": {},
     "output_type": "display_data"
    }
   ],
   "source": [
    "ra= lin_reg_saa.resid\n",
    "sns.distplot(ra)"
   ]
  },
  {
   "cell_type": "code",
   "execution_count": 167,
   "metadata": {},
   "outputs": [
    {
     "data": {
      "image/png": "[encoded data removed]",
      "text/plain": [
       "<Figure size 432x288 with 1 Axes>"
      ]
     },
     "metadata": {},
     "output_type": "display_data"
    }
   ],
   "source": [
    "import scipy.stats as stats\n",
    "import pylab\n",
    "from statsmodels.graphics.gofplots import ProbPlot\n",
    "\n",
    "st_residual = lin_reg_saa.get_influence().resid_studentized_internal\n",
    "\n",
    "stats.probplot(st_residual, dist=\"norm\", plot = pylab)\n",
    "\n",
    "plt.show()"
   ]
  },
  {
   "cell_type": "code",
   "execution_count": null,
   "metadata": {},
   "outputs": [],
   "source": []
  },
  {
   "cell_type": "code",
   "execution_count": null,
   "metadata": {},
   "outputs": [],
   "source": []
  },
  {
   "cell_type": "code",
   "execution_count": null,
   "metadata": {},
   "outputs": [],
   "source": []
  },
  {
   "cell_type": "code",
   "execution_count": 161,
   "metadata": {},
   "outputs": [
    {
     "name": "stdout",
     "output_type": "stream",
     "text": [
      "                            OLS Regression Results                            \n",
      "==============================================================================\n",
      "Dep. Variable:                    log   R-squared:                       0.621\n",
      "Model:                            OLS   Adj. R-squared:                  0.619\n",
      "Method:                 Least Squares   F-statistic:                     355.1\n",
      "Date:                Mon, 09 Nov 2020   Prob (F-statistic):          1.72e-136\n",
      "Time:                        15:51:06   Log-Likelihood:                 108.46\n",
      "No. Observations:                 654   AIC:                            -208.9\n",
      "Df Residuals:                     650   BIC:                            -191.0\n",
      "Df Model:                           3                                         \n",
      "Covariance Type:            nonrobust                                         \n",
      "==============================================================================\n",
      "                 coef    std err          t      P>|t|      [0.025      0.975]\n",
      "------------------------------------------------------------------------------\n",
      "const         -0.0158      0.030     -0.521      0.603      -0.075       0.044\n",
      "AGE            0.0896      0.003     30.030      0.000       0.084       0.095\n",
      "SMOKE         -0.0735      0.030     -2.489      0.013      -0.131      -0.016\n",
      "SEX            0.0943      0.016      5.831      0.000       0.063       0.126\n",
      "==============================================================================\n",
      "Omnibus:                        6.122   Durbin-Watson:                   1.542\n",
      "Prob(Omnibus):                  0.047   Jarque-Bera (JB):                6.226\n",
      "Skew:                          -0.236   Prob(JB):                       0.0445\n",
      "Kurtosis:                       2.924   Cond. No.                         44.0\n",
      "==============================================================================\n",
      "\n",
      "Notes:\n",
      "[1] Standard Errors assume that the covariance matrix of the errors is correctly specified.\n"
     ]
    }
   ],
   "source": [
    "import warnings \n",
    "warnings.filterwarnings('ignore')\n",
    "import statsmodels.api as sm\n",
    "X = df[['AGE', 'SMOKE', 'SEX']]\n",
    "y = df['log']\n",
    "X_constant = sm.add_constant(X)\n",
    "lin_reg_sam = sm.OLS(y,X_constant).fit()\n",
    "print(lin_reg_sam.summary())"
   ]
  },
  {
   "cell_type": "code",
   "execution_count": 168,
   "metadata": {},
   "outputs": [
    {
     "data": {
      "text/plain": [
       "<matplotlib.axes._subplots.AxesSubplot at 0x151393e8>"
      ]
     },
     "execution_count": 168,
     "metadata": {},
     "output_type": "execute_result"
    },
    {
     "data": {
      "image/png": "[encoded data removed]",
      "text/plain": [
       "<Figure size 432x288 with 1 Axes>"
      ]
     },
     "metadata": {},
     "output_type": "display_data"
    }
   ],
   "source": [
    "r= lin_reg_sam.resid\n",
    "sns.distplot(r)"
   ]
  },
  {
   "cell_type": "code",
   "execution_count": 169,
   "metadata": {},
   "outputs": [
    {
     "data": {
      "image/png": "[encoded data removed]",
      "text/plain": [
       "<Figure size 432x288 with 1 Axes>"
      ]
     },
     "metadata": {},
     "output_type": "display_data"
    }
   ],
   "source": [
    "import scipy.stats as stats\n",
    "import pylab\n",
    "from statsmodels.graphics.gofplots import ProbPlot\n",
    "\n",
    "st_residual = lin_reg_sam.get_influence().resid_studentized_internal\n",
    "\n",
    "stats.probplot(st_residual, dist=\"norm\", plot = pylab)\n",
    "\n",
    "plt.show()"
   ]
  },
  {
   "cell_type": "code",
   "execution_count": null,
   "metadata": {},
   "outputs": [],
   "source": []
  },
  {
   "cell_type": "code",
   "execution_count": null,
   "metadata": {},
   "outputs": [],
   "source": []
  }
 ],
 "metadata": {
  "kernelspec": {
   "display_name": "Python 3",
   "language": "python",
   "name": "python3"
  },
  "language_info": {
   "codemirror_mode": {
    "name": "ipython",
    "version": 3
   },
   "file_extension": ".py",
   "mimetype": "text/x-python",
   "name": "python",
   "nbconvert_exporter": "python",
   "pygments_lexer": "ipython3",
   "version": "3.8.1"
  }
 },
 "nbformat": 4,
 "nbformat_minor": 4
}

{
 "cells": [
  {
   "cell_type": "code",
   "execution_count": 1,
   "metadata": {},
   "outputs": [],
   "source": [
    "import pandas as pd\n",
    "import matplotlib.pyplot as plt\n",
    "from sklearn.linear_model import LinearRegression\n",
    "import numpy as np\n",
    "import seaborn as sns"
   ]
  },
  {
   "cell_type": "code",
   "execution_count": 2,
   "metadata": {},
   "outputs": [
    {
     "data": {
      "text/html": [
       "<div>\n",
       "<style scoped>\n",
       "    .dataframe tbody tr th:only-of-type {\n",
       "        vertical-align: middle;\n",
       "    }\n",
       "\n",
       "    .dataframe tbody tr th {\n",
       "        vertical-align: top;\n",
       "    }\n",
       "\n",
       "    .dataframe thead th {\n",
       "        text-align: right;\n",
       "    }\n",
       "</style>\n",
       "<table border=\"1\" class=\"dataframe\">\n",
       "  <thead>\n",
       "    <tr style=\"text-align: right;\">\n",
       "      <th></th>\n",
       "      <th>AGE</th>\n",
       "      <th>FEV</th>\n",
       "      <th>HEIGHT</th>\n",
       "      <th>SEX</th>\n",
       "      <th>SMOKE</th>\n",
       "    </tr>\n",
       "  </thead>\n",
       "  <tbody>\n",
       "    <tr>\n",
       "      <th>0</th>\n",
       "      <td>9</td>\n",
       "      <td>1.708</td>\n",
       "      <td>57.0</td>\n",
       "      <td>2</td>\n",
       "      <td>2</td>\n",
       "    </tr>\n",
       "    <tr>\n",
       "      <th>1</th>\n",
       "      <td>8</td>\n",
       "      <td>1.724</td>\n",
       "      <td>67.5</td>\n",
       "      <td>2</td>\n",
       "      <td>2</td>\n",
       "    </tr>\n",
       "    <tr>\n",
       "      <th>2</th>\n",
       "      <td>7</td>\n",
       "      <td>1.720</td>\n",
       "      <td>54.5</td>\n",
       "      <td>2</td>\n",
       "      <td>2</td>\n",
       "    </tr>\n",
       "    <tr>\n",
       "      <th>3</th>\n",
       "      <td>9</td>\n",
       "      <td>1.558</td>\n",
       "      <td>53.0</td>\n",
       "      <td>1</td>\n",
       "      <td>2</td>\n",
       "    </tr>\n",
       "    <tr>\n",
       "      <th>4</th>\n",
       "      <td>9</td>\n",
       "      <td>1.895</td>\n",
       "      <td>57.0</td>\n",
       "      <td>1</td>\n",
       "      <td>2</td>\n",
       "    </tr>\n",
       "  </tbody>\n",
       "</table>\n",
       "</div>"
      ],
      "text/plain": [
       "   AGE    FEV  HEIGHT  SEX  SMOKE\n",
       "0    9  1.708    57.0    2      2\n",
       "1    8  1.724    67.5    2      2\n",
       "2    7  1.720    54.5    2      2\n",
       "3    9  1.558    53.0    1      2\n",
       "4    9  1.895    57.0    1      2"
      ]
     },
     "execution_count": 2,
     "metadata": {},
     "output_type": "execute_result"
    }
   ],
   "source": [
    "df= pd.read_csv('fev.txt', usecols=['AGE', 'FEV', 'HEIGHT','SEX', 'SMOKE'])\n",
    "df.head()"
   ]
  },
  {
   "cell_type": "code",
   "execution_count": 3,
   "metadata": {},
   "outputs": [
    {
     "data": {
      "text/html": [
       "<div>\n",
       "<style scoped>\n",
       "    .dataframe tbody tr th:only-of-type {\n",
       "        vertical-align: middle;\n",
       "    }\n",
       "\n",
       "    .dataframe tbody tr th {\n",
       "        vertical-align: top;\n",
       "    }\n",
       "\n",
       "    .dataframe thead th {\n",
       "        text-align: right;\n",
       "    }\n",
       "</style>\n",
       "<table border=\"1\" class=\"dataframe\">\n",
       "  <thead>\n",
       "    <tr style=\"text-align: right;\">\n",
       "      <th></th>\n",
       "      <th>AGE</th>\n",
       "      <th>FEV</th>\n",
       "      <th>HEIGHT</th>\n",
       "      <th>SEX</th>\n",
       "      <th>SMOKE</th>\n",
       "    </tr>\n",
       "  </thead>\n",
       "  <tbody>\n",
       "    <tr>\n",
       "      <th>0</th>\n",
       "      <td>9</td>\n",
       "      <td>1.708</td>\n",
       "      <td>57.0</td>\n",
       "      <td>0</td>\n",
       "      <td>0</td>\n",
       "    </tr>\n",
       "    <tr>\n",
       "      <th>1</th>\n",
       "      <td>8</td>\n",
       "      <td>1.724</td>\n",
       "      <td>67.5</td>\n",
       "      <td>0</td>\n",
       "      <td>0</td>\n",
       "    </tr>\n",
       "    <tr>\n",
       "      <th>2</th>\n",
       "      <td>7</td>\n",
       "      <td>1.720</td>\n",
       "      <td>54.5</td>\n",
       "      <td>0</td>\n",
       "      <td>0</td>\n",
       "    </tr>\n",
       "    <tr>\n",
       "      <th>3</th>\n",
       "      <td>9</td>\n",
       "      <td>1.558</td>\n",
       "      <td>53.0</td>\n",
       "      <td>1</td>\n",
       "      <td>0</td>\n",
       "    </tr>\n",
       "    <tr>\n",
       "      <th>4</th>\n",
       "      <td>9</td>\n",
       "      <td>1.895</td>\n",
       "      <td>57.0</td>\n",
       "      <td>1</td>\n",
       "      <td>0</td>\n",
       "    </tr>\n",
       "  </tbody>\n",
       "</table>\n",
       "</div>"
      ],
      "text/plain": [
       "   AGE    FEV  HEIGHT  SEX  SMOKE\n",
       "0    9  1.708    57.0    0      0\n",
       "1    8  1.724    67.5    0      0\n",
       "2    7  1.720    54.5    0      0\n",
       "3    9  1.558    53.0    1      0\n",
       "4    9  1.895    57.0    1      0"
      ]
     },
     "execution_count": 3,
     "metadata": {},
     "output_type": "execute_result"
    }
   ],
   "source": [
    "df['SMOKE'] = df['SMOKE'].replace({2:0})\n",
    "df['SEX'] = df['SEX'].replace({2:0})\n",
    "df.head()"
   ]
  },
  {
   "cell_type": "markdown",
   "metadata": {},
   "source": [
    "Smokers = 1\n",
    "Nonsmokers = 0 (as reference)\n",
    "Male = 1\n",
    "Female = 0 (as reference)"
   ]
  },
  {
   "cell_type": "markdown",
   "metadata": {},
   "source": [
    "### Model ( FEV and SMOKE )"
   ]
  },
  {
   "cell_type": "code",
   "execution_count": 4,
   "metadata": {
    "scrolled": true
   },
   "outputs": [
    {
     "data": {
      "text/html": [
       "<table class=\"simpletable\">\n",
       "<caption>OLS Regression Results</caption>\n",
       "<tr>\n",
       "  <th>Dep. Variable:</th>           <td>FEV</td>       <th>  R-squared:         </th> <td>   0.060</td>\n",
       "</tr>\n",
       "<tr>\n",
       "  <th>Model:</th>                   <td>OLS</td>       <th>  Adj. R-squared:    </th> <td>   0.059</td>\n",
       "</tr>\n",
       "<tr>\n",
       "  <th>Method:</th>             <td>Least Squares</td>  <th>  F-statistic:       </th> <td>   41.79</td>\n",
       "</tr>\n",
       "<tr>\n",
       "  <th>Date:</th>             <td>Sun, 08 Nov 2020</td> <th>  Prob (F-statistic):</th> <td>1.99e-10</td>\n",
       "</tr>\n",
       "<tr>\n",
       "  <th>Time:</th>                 <td>10:23:08</td>     <th>  Log-Likelihood:    </th> <td> -813.88</td>\n",
       "</tr>\n",
       "<tr>\n",
       "  <th>No. Observations:</th>      <td>   654</td>      <th>  AIC:               </th> <td>   1632.</td>\n",
       "</tr>\n",
       "<tr>\n",
       "  <th>Df Residuals:</th>          <td>   652</td>      <th>  BIC:               </th> <td>   1641.</td>\n",
       "</tr>\n",
       "<tr>\n",
       "  <th>Df Model:</th>              <td>     1</td>      <th>                     </th>     <td> </td>   \n",
       "</tr>\n",
       "<tr>\n",
       "  <th>Covariance Type:</th>      <td>nonrobust</td>    <th>                     </th>     <td> </td>   \n",
       "</tr>\n",
       "</table>\n",
       "<table class=\"simpletable\">\n",
       "<tr>\n",
       "    <td></td>       <th>coef</th>     <th>std err</th>      <th>t</th>      <th>P>|t|</th>  <th>[0.025</th>    <th>0.975]</th>  \n",
       "</tr>\n",
       "<tr>\n",
       "  <th>const</th> <td>    2.5661</td> <td>    0.035</td> <td>   74.037</td> <td> 0.000</td> <td>    2.498</td> <td>    2.634</td>\n",
       "</tr>\n",
       "<tr>\n",
       "  <th>SMOKE</th> <td>    0.7107</td> <td>    0.110</td> <td>    6.464</td> <td> 0.000</td> <td>    0.495</td> <td>    0.927</td>\n",
       "</tr>\n",
       "</table>\n",
       "<table class=\"simpletable\">\n",
       "<tr>\n",
       "  <th>Omnibus:</th>       <td>55.456</td> <th>  Durbin-Watson:     </th> <td>   1.094</td>\n",
       "</tr>\n",
       "<tr>\n",
       "  <th>Prob(Omnibus):</th> <td> 0.000</td> <th>  Jarque-Bera (JB):  </th> <td>  67.952</td>\n",
       "</tr>\n",
       "<tr>\n",
       "  <th>Skew:</th>          <td> 0.736</td> <th>  Prob(JB):          </th> <td>1.76e-15</td>\n",
       "</tr>\n",
       "<tr>\n",
       "  <th>Kurtosis:</th>      <td> 3.570</td> <th>  Cond. No.          </th> <td>    3.38</td>\n",
       "</tr>\n",
       "</table><br/><br/>Notes:<br/>[1] Standard Errors assume that the covariance matrix of the errors is correctly specified."
      ],
      "text/plain": [
       "<class 'statsmodels.iolib.summary.Summary'>\n",
       "\"\"\"\n",
       "                            OLS Regression Results                            \n",
       "==============================================================================\n",
       "Dep. Variable:                    FEV   R-squared:                       0.060\n",
       "Model:                            OLS   Adj. R-squared:                  0.059\n",
       "Method:                 Least Squares   F-statistic:                     41.79\n",
       "Date:                Sun, 08 Nov 2020   Prob (F-statistic):           1.99e-10\n",
       "Time:                        10:23:08   Log-Likelihood:                -813.88\n",
       "No. Observations:                 654   AIC:                             1632.\n",
       "Df Residuals:                     652   BIC:                             1641.\n",
       "Df Model:                           1                                         \n",
       "Covariance Type:            nonrobust                                         \n",
       "==============================================================================\n",
       "                 coef    std err          t      P>|t|      [0.025      0.975]\n",
       "------------------------------------------------------------------------------\n",
       "const          2.5661      0.035     74.037      0.000       2.498       2.634\n",
       "SMOKE          0.7107      0.110      6.464      0.000       0.495       0.927\n",
       "==============================================================================\n",
       "Omnibus:                       55.456   Durbin-Watson:                   1.094\n",
       "Prob(Omnibus):                  0.000   Jarque-Bera (JB):               67.952\n",
       "Skew:                           0.736   Prob(JB):                     1.76e-15\n",
       "Kurtosis:                       3.570   Cond. No.                         3.38\n",
       "==============================================================================\n",
       "\n",
       "Notes:\n",
       "[1] Standard Errors assume that the covariance matrix of the errors is correctly specified.\n",
       "\"\"\""
      ]
     },
     "execution_count": 4,
     "metadata": {},
     "output_type": "execute_result"
    }
   ],
   "source": [
    "import warnings \n",
    "warnings.filterwarnings('ignore')\n",
    "import statsmodels.api as sm\n",
    "X = df['SMOKE']\n",
    "y = df['FEV']\n",
    "X_constant = sm.add_constant(X)\n",
    "lin_reg_smoke_fev = sm.OLS(y,X_constant).fit()\n",
    "lin_reg_smoke_fev.summary()"
   ]
  },
  {
   "cell_type": "code",
   "execution_count": 5,
   "metadata": {
    "scrolled": true
   },
   "outputs": [
    {
     "data": {
      "image/png": "[encoded data removed]",
      "text/plain": [
       "<Figure size 432x288 with 1 Axes>"
      ]
     },
     "metadata": {
      "needs_background": "light"
     },
     "output_type": "display_data"
    }
   ],
   "source": [
    "\n",
    "import statsmodels.tsa.api as smt\n",
    "\n",
    "acf = smt.graphics.plot_acf(lin_reg_smoke_fev.resid, lags=40 , alpha=0.05)\n"
   ]
  },
  {
   "cell_type": "code",
   "execution_count": 6,
   "metadata": {},
   "outputs": [
    {
     "data": {
      "text/plain": [
       "<matplotlib.axes._subplots.AxesSubplot at 0x15464328>"
      ]
     },
     "execution_count": 6,
     "metadata": {},
     "output_type": "execute_result"
    },
    {
     "data": {
      "image/png": "[encoded data removed]",
      "text/plain": [
       "<Figure size 432x288 with 1 Axes>"
      ]
     },
     "metadata": {
      "needs_background": "light"
     },
     "output_type": "display_data"
    }
   ],
   "source": [
    "sns.distplot(lin_reg_smoke_fev.resid)"
   ]
  },
  {
   "cell_type": "markdown",
   "metadata": {},
   "source": [
    "We have fit the model for SMOKE and FEV. The regression equation is fev = 2.57 + 0.711 smoke. Taken at face value, this model indicates that, on average, smokers have about a 0.71 liter larger FEV than nonsmokers. R2 value is 0.06. \n",
    "\n",
    "To check if Age confounds the association between Smoking and FEV we can add age to our model. We will compare our simple linear regression model (SMOKE and FEV) with our multiple variable linear model which includes age (SMOKE, AGE and FEV)"
   ]
  },
  {
   "cell_type": "markdown",
   "metadata": {},
   "source": [
    "### Model ( FEV = AGE + SMOKE )"
   ]
  },
  {
   "cell_type": "code",
   "execution_count": 7,
   "metadata": {
    "scrolled": true
   },
   "outputs": [
    {
     "data": {
      "text/html": [
       "<table class=\"simpletable\">\n",
       "<caption>OLS Regression Results</caption>\n",
       "<tr>\n",
       "  <th>Dep. Variable:</th>           <td>FEV</td>       <th>  R-squared:         </th> <td>   0.577</td> \n",
       "</tr>\n",
       "<tr>\n",
       "  <th>Model:</th>                   <td>OLS</td>       <th>  Adj. R-squared:    </th> <td>   0.575</td> \n",
       "</tr>\n",
       "<tr>\n",
       "  <th>Method:</th>             <td>Least Squares</td>  <th>  F-statistic:       </th> <td>   443.3</td> \n",
       "</tr>\n",
       "<tr>\n",
       "  <th>Date:</th>             <td>Sun, 08 Nov 2020</td> <th>  Prob (F-statistic):</th> <td>3.25e-122</td>\n",
       "</tr>\n",
       "<tr>\n",
       "  <th>Time:</th>                 <td>10:23:09</td>     <th>  Log-Likelihood:    </th> <td> -553.17</td> \n",
       "</tr>\n",
       "<tr>\n",
       "  <th>No. Observations:</th>      <td>   654</td>      <th>  AIC:               </th> <td>   1112.</td> \n",
       "</tr>\n",
       "<tr>\n",
       "  <th>Df Residuals:</th>          <td>   651</td>      <th>  BIC:               </th> <td>   1126.</td> \n",
       "</tr>\n",
       "<tr>\n",
       "  <th>Df Model:</th>              <td>     2</td>      <th>                     </th>     <td> </td>    \n",
       "</tr>\n",
       "<tr>\n",
       "  <th>Covariance Type:</th>      <td>nonrobust</td>    <th>                     </th>     <td> </td>    \n",
       "</tr>\n",
       "</table>\n",
       "<table class=\"simpletable\">\n",
       "<tr>\n",
       "    <td></td>       <th>coef</th>     <th>std err</th>      <th>t</th>      <th>P>|t|</th>  <th>[0.025</th>    <th>0.975]</th>  \n",
       "</tr>\n",
       "<tr>\n",
       "  <th>const</th> <td>    0.3674</td> <td>    0.081</td> <td>    4.511</td> <td> 0.000</td> <td>    0.207</td> <td>    0.527</td>\n",
       "</tr>\n",
       "<tr>\n",
       "  <th>AGE</th>   <td>    0.2306</td> <td>    0.008</td> <td>   28.176</td> <td> 0.000</td> <td>    0.215</td> <td>    0.247</td>\n",
       "</tr>\n",
       "<tr>\n",
       "  <th>SMOKE</th> <td>   -0.2090</td> <td>    0.081</td> <td>   -2.588</td> <td> 0.010</td> <td>   -0.368</td> <td>   -0.050</td>\n",
       "</tr>\n",
       "</table>\n",
       "<table class=\"simpletable\">\n",
       "<tr>\n",
       "  <th>Omnibus:</th>       <td>37.843</td> <th>  Durbin-Watson:     </th> <td>   1.635</td>\n",
       "</tr>\n",
       "<tr>\n",
       "  <th>Prob(Omnibus):</th> <td> 0.000</td> <th>  Jarque-Bera (JB):  </th> <td>  51.741</td>\n",
       "</tr>\n",
       "<tr>\n",
       "  <th>Skew:</th>          <td> 0.490</td> <th>  Prob(JB):          </th> <td>5.82e-12</td>\n",
       "</tr>\n",
       "<tr>\n",
       "  <th>Kurtosis:</th>      <td> 3.969</td> <th>  Cond. No.          </th> <td>    43.7</td>\n",
       "</tr>\n",
       "</table><br/><br/>Notes:<br/>[1] Standard Errors assume that the covariance matrix of the errors is correctly specified."
      ],
      "text/plain": [
       "<class 'statsmodels.iolib.summary.Summary'>\n",
       "\"\"\"\n",
       "                            OLS Regression Results                            \n",
       "==============================================================================\n",
       "Dep. Variable:                    FEV   R-squared:                       0.577\n",
       "Model:                            OLS   Adj. R-squared:                  0.575\n",
       "Method:                 Least Squares   F-statistic:                     443.3\n",
       "Date:                Sun, 08 Nov 2020   Prob (F-statistic):          3.25e-122\n",
       "Time:                        10:23:09   Log-Likelihood:                -553.17\n",
       "No. Observations:                 654   AIC:                             1112.\n",
       "Df Residuals:                     651   BIC:                             1126.\n",
       "Df Model:                           2                                         \n",
       "Covariance Type:            nonrobust                                         \n",
       "==============================================================================\n",
       "                 coef    std err          t      P>|t|      [0.025      0.975]\n",
       "------------------------------------------------------------------------------\n",
       "const          0.3674      0.081      4.511      0.000       0.207       0.527\n",
       "AGE            0.2306      0.008     28.176      0.000       0.215       0.247\n",
       "SMOKE         -0.2090      0.081     -2.588      0.010      -0.368      -0.050\n",
       "==============================================================================\n",
       "Omnibus:                       37.843   Durbin-Watson:                   1.635\n",
       "Prob(Omnibus):                  0.000   Jarque-Bera (JB):               51.741\n",
       "Skew:                           0.490   Prob(JB):                     5.82e-12\n",
       "Kurtosis:                       3.969   Cond. No.                         43.7\n",
       "==============================================================================\n",
       "\n",
       "Notes:\n",
       "[1] Standard Errors assume that the covariance matrix of the errors is correctly specified.\n",
       "\"\"\""
      ]
     },
     "execution_count": 7,
     "metadata": {},
     "output_type": "execute_result"
    }
   ],
   "source": [
    "import warnings \n",
    "warnings.filterwarnings('ignore')\n",
    "import statsmodels.api as sm\n",
    "X = df[['AGE', 'SMOKE']]\n",
    "y = df['FEV']\n",
    "X_constant = sm.add_constant(X)\n",
    "lin_reg_sa = sm.OLS(y,X_constant).fit()\n",
    "lin_reg_sa.summary()"
   ]
  },
  {
   "cell_type": "markdown",
   "metadata": {},
   "source": [
    "The estimate for the smoke changes from 0.7107 to -0.2090(which is more than 10%), the direction of the association changes from positive to negative, which is a substancial change. SO AGE appears to be a confounder between smoking and fev and should be kept in our model.\n",
    "So we can interprete it as smokers has an fev less 0.21 liters lower than non smokers adjusting for age.\n",
    "\n",
    "Now as next step lets add gender."
   ]
  },
  {
   "cell_type": "code",
   "execution_count": 8,
   "metadata": {
    "scrolled": true
   },
   "outputs": [
    {
     "data": {
      "image/png": "[encoded data removed]",
      "text/plain": [
       "<Figure size 432x288 with 1 Axes>"
      ]
     },
     "metadata": {
      "needs_background": "light"
     },
     "output_type": "display_data"
    }
   ],
   "source": [
    "acf = smt.graphics.plot_acf(lin_reg_sa.resid, lags=40 , alpha=0.05)"
   ]
  },
  {
   "cell_type": "code",
   "execution_count": 9,
   "metadata": {},
   "outputs": [
    {
     "data": {
      "text/plain": [
       "<matplotlib.axes._subplots.AxesSubplot at 0x1554dee0>"
      ]
     },
     "execution_count": 9,
     "metadata": {},
     "output_type": "execute_result"
    },
    {
     "data": {
      "image/png": "[encoded data removed]",
      "text/plain": [
       "<Figure size 432x288 with 1 Axes>"
      ]
     },
     "metadata": {
      "needs_background": "light"
     },
     "output_type": "display_data"
    }
   ],
   "source": [
    "sns.distplot(lin_reg_sa.resid)"
   ]
  },
  {
   "cell_type": "markdown",
   "metadata": {},
   "source": [
    "### Model ( FEV = AGE + SEX + SMOKE )"
   ]
  },
  {
   "cell_type": "code",
   "execution_count": 29,
   "metadata": {},
   "outputs": [
    {
     "name": "stdout",
     "output_type": "stream",
     "text": [
      "                            OLS Regression Results                            \n",
      "==============================================================================\n",
      "Dep. Variable:                    FEV   R-squared:                       0.609\n",
      "Model:                            OLS   Adj. R-squared:                  0.608\n",
      "Method:                 Least Squares   F-statistic:                     337.9\n",
      "Date:                Sun, 08 Nov 2020   Prob (F-statistic):          3.45e-132\n",
      "Time:                        10:59:31   Log-Likelihood:                -526.84\n",
      "No. Observations:                 654   AIC:                             1062.\n",
      "Df Residuals:                     650   BIC:                             1080.\n",
      "Df Model:                           3                                         \n",
      "Covariance Type:            nonrobust                                         \n",
      "==============================================================================\n",
      "                 coef    std err          t      P>|t|      [0.025      0.975]\n",
      "------------------------------------------------------------------------------\n",
      "const          0.2378      0.080      2.964      0.003       0.080       0.395\n",
      "AGE            0.2268      0.008     28.765      0.000       0.211       0.242\n",
      "SMOKE         -0.1540      0.078     -1.975      0.049      -0.307      -0.001\n",
      "SEX            0.3153      0.043      7.382      0.000       0.231       0.399\n",
      "==============================================================================\n",
      "Omnibus:                       18.151   Durbin-Watson:                   1.597\n",
      "Prob(Omnibus):                  0.000   Jarque-Bera (JB):               20.607\n",
      "Skew:                           0.340   Prob(JB):                     3.35e-05\n",
      "Kurtosis:                       3.542   Cond. No.                         44.0\n",
      "==============================================================================\n",
      "\n",
      "Notes:\n",
      "[1] Standard Errors assume that the covariance matrix of the errors is correctly specified.\n"
     ]
    }
   ],
   "source": [
    "X = df[['AGE', 'SMOKE', 'SEX']]\n",
    "y = df['FEV']\n",
    "X_constant = sm.add_constant(X)\n",
    "lin_reg_sas = sm.OLS(y,X_constant).fit()\n",
    "print(lin_reg_sas.summary())"
   ]
  },
  {
   "cell_type": "markdown",
   "metadata": {},
   "source": [
    "Change in coeff on smoke is around 29%. So sex is a confounder theoretically and statistically. For checking effect modifications we will stratify the model by sex. We will group the data into male and female group and perform our statistical analysis."
   ]
  },
  {
   "cell_type": "code",
   "execution_count": 11,
   "metadata": {},
   "outputs": [],
   "source": [
    "g=df.groupby('SEX')\n",
    "df_male = g.get_group(1)\n",
    "df_female = g.get_group(0)"
   ]
  },
  {
   "cell_type": "markdown",
   "metadata": {},
   "source": [
    "### Model sex=1 Model ( FEV = SMOKE + AGE )"
   ]
  },
  {
   "cell_type": "code",
   "execution_count": 12,
   "metadata": {
    "scrolled": true
   },
   "outputs": [
    {
     "name": "stdout",
     "output_type": "stream",
     "text": [
      "                            OLS Regression Results                            \n",
      "==============================================================================\n",
      "Dep. Variable:                    FEV   R-squared:                       0.659\n",
      "Model:                            OLS   Adj. R-squared:                  0.657\n",
      "Method:                 Least Squares   F-statistic:                     322.5\n",
      "Date:                Sun, 08 Nov 2020   Prob (F-statistic):           1.25e-78\n",
      "Time:                        10:23:10   Log-Likelihood:                -296.48\n",
      "No. Observations:                 336   AIC:                             599.0\n",
      "Df Residuals:                     333   BIC:                             610.4\n",
      "Df Model:                           2                                         \n",
      "Covariance Type:            nonrobust                                         \n",
      "==============================================================================\n",
      "                 coef    std err          t      P>|t|      [0.025      0.975]\n",
      "------------------------------------------------------------------------------\n",
      "const          0.0271      0.118      0.230      0.818      -0.205       0.259\n",
      "SMOKE         -0.1750      0.130     -1.349      0.178      -0.430       0.080\n",
      "AGE            0.2795      0.012     23.963      0.000       0.257       0.302\n",
      "==============================================================================\n",
      "Omnibus:                        9.161   Durbin-Watson:                   1.684\n",
      "Prob(Omnibus):                  0.010   Jarque-Bera (JB):                9.149\n",
      "Skew:                           0.368   Prob(JB):                       0.0103\n",
      "Kurtosis:                       3.334   Cond. No.                         46.5\n",
      "==============================================================================\n",
      "\n",
      "Notes:\n",
      "[1] Standard Errors assume that the covariance matrix of the errors is correctly specified.\n"
     ]
    }
   ],
   "source": [
    "X = df_male[['SMOKE', 'AGE']]\n",
    "y = df_male['FEV']\n",
    "X_constant = sm.add_constant(X)\n",
    "lin_reg_sa = sm.OLS(y,X_constant)\n",
    "a=lin_reg_sa.fit()\n",
    "print(a.summary())"
   ]
  },
  {
   "cell_type": "markdown",
   "metadata": {},
   "source": [
    "Male smokers have FEV -0.1750 liters less than the non smokers."
   ]
  },
  {
   "cell_type": "markdown",
   "metadata": {},
   "source": [
    "### Model sex=0 Model ( FEV = SMOKE + AGE )"
   ]
  },
  {
   "cell_type": "code",
   "execution_count": 13,
   "metadata": {},
   "outputs": [
    {
     "name": "stdout",
     "output_type": "stream",
     "text": [
      "                            OLS Regression Results                            \n",
      "==============================================================================\n",
      "Dep. Variable:                    FEV   R-squared:                       0.547\n",
      "Model:                            OLS   Adj. R-squared:                  0.544\n",
      "Method:                 Least Squares   F-statistic:                     190.1\n",
      "Date:                Sun, 08 Nov 2020   Prob (F-statistic):           7.25e-55\n",
      "Time:                        10:23:10   Log-Likelihood:                -185.79\n",
      "No. Observations:                 318   AIC:                             377.6\n",
      "Df Residuals:                     315   BIC:                             388.9\n",
      "Df Model:                           2                                         \n",
      "Covariance Type:            nonrobust                                         \n",
      "==============================================================================\n",
      "                 coef    std err          t      P>|t|      [0.025      0.975]\n",
      "------------------------------------------------------------------------------\n",
      "const          0.8290      0.091      9.135      0.000       0.650       1.008\n",
      "AGE            0.1655      0.009     17.837      0.000       0.147       0.184\n",
      "SMOKE         -0.0573      0.083     -0.692      0.490      -0.220       0.106\n",
      "==============================================================================\n",
      "Omnibus:                        2.342   Durbin-Watson:                   1.620\n",
      "Prob(Omnibus):                  0.310   Jarque-Bera (JB):                2.170\n",
      "Skew:                           0.123   Prob(JB):                        0.338\n",
      "Kurtosis:                       2.678   Cond. No.                         42.5\n",
      "==============================================================================\n",
      "\n",
      "Notes:\n",
      "[1] Standard Errors assume that the covariance matrix of the errors is correctly specified.\n"
     ]
    }
   ],
   "source": [
    "X = df_female[['AGE', 'SMOKE']]\n",
    "y = df_female['FEV']\n",
    "X_constant = sm.add_constant(X)\n",
    "lin_reg_sa = sm.OLS(y,X_constant).fit()\n",
    "print(lin_reg_sa.summary())"
   ]
  },
  {
   "cell_type": "markdown",
   "metadata": {},
   "source": [
    "Female smokers have FEV -0.05 liters less than the non smokers."
   ]
  },
  {
   "cell_type": "markdown",
   "metadata": {},
   "source": [
    "Now we will try tro fit a model with interaction term. "
   ]
  },
  {
   "cell_type": "code",
   "execution_count": null,
   "metadata": {},
   "outputs": [],
   "source": [
    "age smoke sex sex*smoke"
   ]
  },
  {
   "cell_type": "code",
   "execution_count": null,
   "metadata": {},
   "outputs": [],
   "source": [
    "import warnings \n",
    "warnings.filterwarnings('ignore')\n",
    "import statsmodels.api as sm\n",
    "X = df[['AGE', 'SMOKE']]\n",
    "y = df['FEV']\n",
    "X_constant = sm.add_constant(X)\n",
    "lin_reg_sa = sm.OLS(y,X_constant).fit()\n",
    "lin_reg_sa.summary()"
   ]
  },
  {
   "cell_type": "code",
   "execution_count": 30,
   "metadata": {},
   "outputs": [
    {
     "data": {
      "text/html": [
       "<div>\n",
       "<style scoped>\n",
       "    .dataframe tbody tr th:only-of-type {\n",
       "        vertical-align: middle;\n",
       "    }\n",
       "\n",
       "    .dataframe tbody tr th {\n",
       "        vertical-align: top;\n",
       "    }\n",
       "\n",
       "    .dataframe thead th {\n",
       "        text-align: right;\n",
       "    }\n",
       "</style>\n",
       "<table border=\"1\" class=\"dataframe\">\n",
       "  <thead>\n",
       "    <tr style=\"text-align: right;\">\n",
       "      <th></th>\n",
       "      <th>AGE</th>\n",
       "      <th>FEV</th>\n",
       "      <th>HEIGHT</th>\n",
       "      <th>SEX</th>\n",
       "      <th>SMOKE</th>\n",
       "      <th>SEX*SMOKE</th>\n",
       "    </tr>\n",
       "  </thead>\n",
       "  <tbody>\n",
       "    <tr>\n",
       "      <th>0</th>\n",
       "      <td>9</td>\n",
       "      <td>1.708</td>\n",
       "      <td>57.0</td>\n",
       "      <td>0</td>\n",
       "      <td>0</td>\n",
       "      <td>0</td>\n",
       "    </tr>\n",
       "    <tr>\n",
       "      <th>1</th>\n",
       "      <td>8</td>\n",
       "      <td>1.724</td>\n",
       "      <td>67.5</td>\n",
       "      <td>0</td>\n",
       "      <td>0</td>\n",
       "      <td>0</td>\n",
       "    </tr>\n",
       "    <tr>\n",
       "      <th>2</th>\n",
       "      <td>7</td>\n",
       "      <td>1.720</td>\n",
       "      <td>54.5</td>\n",
       "      <td>0</td>\n",
       "      <td>0</td>\n",
       "      <td>0</td>\n",
       "    </tr>\n",
       "    <tr>\n",
       "      <th>3</th>\n",
       "      <td>9</td>\n",
       "      <td>1.558</td>\n",
       "      <td>53.0</td>\n",
       "      <td>1</td>\n",
       "      <td>0</td>\n",
       "      <td>0</td>\n",
       "    </tr>\n",
       "    <tr>\n",
       "      <th>4</th>\n",
       "      <td>9</td>\n",
       "      <td>1.895</td>\n",
       "      <td>57.0</td>\n",
       "      <td>1</td>\n",
       "      <td>0</td>\n",
       "      <td>0</td>\n",
       "    </tr>\n",
       "    <tr>\n",
       "      <th>...</th>\n",
       "      <td>...</td>\n",
       "      <td>...</td>\n",
       "      <td>...</td>\n",
       "      <td>...</td>\n",
       "      <td>...</td>\n",
       "      <td>...</td>\n",
       "    </tr>\n",
       "    <tr>\n",
       "      <th>649</th>\n",
       "      <td>16</td>\n",
       "      <td>4.270</td>\n",
       "      <td>67.0</td>\n",
       "      <td>1</td>\n",
       "      <td>1</td>\n",
       "      <td>1</td>\n",
       "    </tr>\n",
       "    <tr>\n",
       "      <th>650</th>\n",
       "      <td>15</td>\n",
       "      <td>3.727</td>\n",
       "      <td>68.0</td>\n",
       "      <td>1</td>\n",
       "      <td>1</td>\n",
       "      <td>1</td>\n",
       "    </tr>\n",
       "    <tr>\n",
       "      <th>651</th>\n",
       "      <td>18</td>\n",
       "      <td>2.853</td>\n",
       "      <td>60.0</td>\n",
       "      <td>0</td>\n",
       "      <td>0</td>\n",
       "      <td>0</td>\n",
       "    </tr>\n",
       "    <tr>\n",
       "      <th>652</th>\n",
       "      <td>16</td>\n",
       "      <td>2.795</td>\n",
       "      <td>63.0</td>\n",
       "      <td>0</td>\n",
       "      <td>1</td>\n",
       "      <td>0</td>\n",
       "    </tr>\n",
       "    <tr>\n",
       "      <th>653</th>\n",
       "      <td>15</td>\n",
       "      <td>3.211</td>\n",
       "      <td>66.5</td>\n",
       "      <td>0</td>\n",
       "      <td>0</td>\n",
       "      <td>0</td>\n",
       "    </tr>\n",
       "  </tbody>\n",
       "</table>\n",
       "<p>654 rows × 6 columns</p>\n",
       "</div>"
      ],
      "text/plain": [
       "     AGE    FEV  HEIGHT  SEX  SMOKE  SEX*SMOKE\n",
       "0      9  1.708    57.0    0      0          0\n",
       "1      8  1.724    67.5    0      0          0\n",
       "2      7  1.720    54.5    0      0          0\n",
       "3      9  1.558    53.0    1      0          0\n",
       "4      9  1.895    57.0    1      0          0\n",
       "..   ...    ...     ...  ...    ...        ...\n",
       "649   16  4.270    67.0    1      1          1\n",
       "650   15  3.727    68.0    1      1          1\n",
       "651   18  2.853    60.0    0      0          0\n",
       "652   16  2.795    63.0    0      1          0\n",
       "653   15  3.211    66.5    0      0          0\n",
       "\n",
       "[654 rows x 6 columns]"
      ]
     },
     "execution_count": 30,
     "metadata": {},
     "output_type": "execute_result"
    }
   ],
   "source": [
    "df['SEX*SMOKE']=df['SEX']*df['SMOKE']\n",
    "df"
   ]
  },
  {
   "cell_type": "code",
   "execution_count": 35,
   "metadata": {
    "scrolled": false
   },
   "outputs": [
    {
     "name": "stdout",
     "output_type": "stream",
     "text": [
      "                            OLS Regression Results                            \n",
      "==============================================================================\n",
      "Dep. Variable:                    FEV   R-squared:                       0.613\n",
      "Model:                            OLS   Adj. R-squared:                  0.610\n",
      "Method:                 Least Squares   F-statistic:                     256.7\n",
      "Date:                Sun, 08 Nov 2020   Prob (F-statistic):          4.07e-132\n",
      "Time:                        13:35:16   Log-Likelihood:                -523.99\n",
      "No. Observations:                 654   AIC:                             1058.\n",
      "Df Residuals:                     649   BIC:                             1080.\n",
      "Df Model:                           4                                         \n",
      "Covariance Type:            nonrobust                                         \n",
      "==============================================================================\n",
      "                 coef    std err          t      P>|t|      [0.025      0.975]\n",
      "------------------------------------------------------------------------------\n",
      "const          0.2585      0.080      3.214      0.001       0.101       0.416\n",
      "AGE            0.2264      0.008     28.818      0.000       0.211       0.242\n",
      "SMOKE         -0.2943      0.097     -3.020      0.003      -0.486      -0.103\n",
      "SEX            0.2824      0.045      6.312      0.000       0.195       0.370\n",
      "SEX*SMOKE      0.3440      0.144      2.386      0.017       0.061       0.627\n",
      "==============================================================================\n",
      "Omnibus:                       18.068   Durbin-Watson:                   1.584\n",
      "Prob(Omnibus):                  0.000   Jarque-Bera (JB):               20.763\n",
      "Skew:                           0.334   Prob(JB):                     3.10e-05\n",
      "Kurtosis:                       3.562   Cond. No.                         78.7\n",
      "==============================================================================\n",
      "\n",
      "Notes:\n",
      "[1] Standard Errors assume that the covariance matrix of the errors is correctly specified.\n"
     ]
    }
   ],
   "source": [
    "X = df[['AGE', 'SMOKE', 'SEX', 'SEX*SMOKE']]\n",
    "y = df['FEV']\n",
    "X_constant = sm.add_constant(X)\n",
    "lin_reg_sam = sm.OLS(y,X_constant).fit()\n",
    "print(lin_reg_sam.summary())"
   ]
  },
  {
   "cell_type": "markdown",
   "metadata": {},
   "source": [
    "Females\n",
    "fev = age*0.25 + smoke(-0.3) + sex*0.3 + sex*smoke(0.34) + 0.25\n",
    "fev = 0.25*age -0.3*smoke + 0.25\n",
    "\n",
    "Males\n",
    "fev = age*0.25 + smoke(-0.3) + sex*0.3 + sex*smoke(0.34) +0.25\n",
    "fev = 0.25*age - 0.3*smoke + 0.3 + 0.34*smoke +0.25\n",
    "fev = 0.25*age + 0.04smoke + 0.3 +0.25\n",
    "fev = 0.25*age + 0.55\n",
    "\n",
    "\n",
    "\n"
   ]
  },
  {
   "cell_type": "code",
   "execution_count": 43,
   "metadata": {
    "scrolled": true
   },
   "outputs": [
    {
     "data": {
      "text/plain": [
       "array([[ 1.,  9.,  0.,  0.,  0.],\n",
       "       [ 1.,  8.,  0.,  0.,  0.],\n",
       "       [ 1.,  7.,  0.,  0.,  0.],\n",
       "       ...,\n",
       "       [ 1., 18.,  0.,  0.,  0.],\n",
       "       [ 1., 16.,  1.,  0.,  0.],\n",
       "       [ 1., 15.,  0.,  0.,  0.]])"
      ]
     },
     "execution_count": 43,
     "metadata": {},
     "output_type": "execute_result"
    }
   ],
   "source": [
    "X_constant.values"
   ]
  },
  {
   "cell_type": "code",
   "execution_count": 66,
   "metadata": {},
   "outputs": [
    {
     "data": {
      "image/png": "[encoded data removed]",
      "text/plain": [
       "<Figure size 432x288 with 1 Axes>"
      ]
     },
     "metadata": {
      "needs_background": "light"
     },
     "output_type": "display_data"
    }
   ],
   "source": [
    "import statsmodels.tsa.api as smt\n",
    "\n",
    "acf = smt.graphics.plot_acf(lin_reg_sam.resid, lags=40 , alpha=0.05)\n",
    "acf.show()"
   ]
  },
  {
   "cell_type": "code",
   "execution_count": null,
   "metadata": {},
   "outputs": [],
   "source": []
  },
  {
   "cell_type": "code",
   "execution_count": null,
   "metadata": {},
   "outputs": [],
   "source": []
  },
  {
   "cell_type": "code",
   "execution_count": null,
   "metadata": {},
   "outputs": [],
   "source": []
  },
  {
   "cell_type": "code",
   "execution_count": 45,
   "metadata": {},
   "outputs": [
    {
     "data": {
      "text/plain": [
       "array([[ 9,  0,  0,  0],\n",
       "       [ 8,  0,  0,  0],\n",
       "       [ 7,  0,  0,  0],\n",
       "       ...,\n",
       "       [18,  0,  0,  0],\n",
       "       [16,  1,  0,  0],\n",
       "       [15,  0,  0,  0]], dtype=int64)"
      ]
     },
     "execution_count": 45,
     "metadata": {},
     "output_type": "execute_result"
    }
   ],
   "source": [
    "X.values"
   ]
  },
  {
   "cell_type": "code",
   "execution_count": 46,
   "metadata": {},
   "outputs": [],
   "source": [
    "from sklearn.linear_model import LinearRegression\n",
    "reg = LinearRegression().fit(X, y)"
   ]
  },
  {
   "cell_type": "code",
   "execution_count": 48,
   "metadata": {},
   "outputs": [
    {
     "data": {
      "text/plain": [
       "array([ 0.22644148, -0.29430553,  0.28236702,  0.34395404])"
      ]
     },
     "execution_count": 48,
     "metadata": {},
     "output_type": "execute_result"
    }
   ],
   "source": [
    "reg.coef_"
   ]
  },
  {
   "cell_type": "code",
   "execution_count": 60,
   "metadata": {
    "scrolled": true
   },
   "outputs": [],
   "source": [
    "residuals=lin_reg_sam.resid"
   ]
  },
  {
   "cell_type": "code",
   "execution_count": 57,
   "metadata": {},
   "outputs": [
    {
     "data": {
      "text/plain": [
       "<bound method Results.predict of <statsmodels.regression.linear_model.OLSResults object at 0x164333B8>>"
      ]
     },
     "execution_count": 57,
     "metadata": {},
     "output_type": "execute_result"
    }
   ],
   "source": [
    "lin_reg_sam.predict"
   ]
  },
  {
   "cell_type": "code",
   "execution_count": 59,
   "metadata": {
    "scrolled": true
   },
   "outputs": [
    {
     "name": "stdout",
     "output_type": "stream",
     "text": [
      "<bound method LinearModel.predict of LinearRegression(copy_X=True, fit_intercept=True, n_jobs=None, normalize=False)>\n"
     ]
    }
   ],
   "source": [
    "print(reg.predict)"
   ]
  },
  {
   "cell_type": "code",
   "execution_count": null,
   "metadata": {},
   "outputs": [],
   "source": [
    "sns.scatterplot(x='HEIGHT', y='FEV', data=df)"
   ]
  },
  {
   "cell_type": "code",
   "execution_count": 61,
   "metadata": {},
   "outputs": [
    {
     "data": {
      "text/plain": [
       "0     -0.588426\n",
       "1     -0.345985\n",
       "2     -0.123543\n",
       "3     -1.020793\n",
       "4     -0.683793\n",
       "         ...   \n",
       "649    0.056468\n",
       "650   -0.260091\n",
       "651   -1.481400\n",
       "652   -0.792211\n",
       "653   -0.444075\n",
       "Length: 654, dtype: float64"
      ]
     },
     "execution_count": 61,
     "metadata": {},
     "output_type": "execute_result"
    }
   ],
   "source": [
    "residuals"
   ]
  },
  {
   "cell_type": "code",
   "execution_count": 62,
   "metadata": {},
   "outputs": [
    {
     "data": {
      "text/plain": [
       "<matplotlib.axes._subplots.AxesSubplot at 0x164f2388>"
      ]
     },
     "execution_count": 62,
     "metadata": {},
     "output_type": "execute_result"
    },
    {
     "data": {
      "image/png": "[encoded data removed]",
      "text/plain": [
       "<Figure size 432x288 with 1 Axes>"
      ]
     },
     "metadata": {
      "needs_background": "light"
     },
     "output_type": "display_data"
    }
   ],
   "source": [
    "sns.distplot(residuals)"
   ]
  },
  {
   "cell_type": "code",
   "execution_count": 63,
   "metadata": {},
   "outputs": [
    {
     "data": {
      "image/png": "[encoded data removed]",
      "text/plain": [
       "<Figure size 432x288 with 1 Axes>"
      ]
     },
     "metadata": {
      "needs_background": "light"
     },
     "output_type": "display_data"
    }
   ],
   "source": [
    "import scipy.stats as stats\n",
    "import pylab\n",
    "from statsmodels.graphics.gofplots import ProbPlot\n",
    "\n",
    "st_residual = lin_reg_sam.get_influence().resid_studentized_internal\n",
    "\n",
    "stats.probplot(st_residual, dist=\"norm\", plot = pylab)\n",
    "\n",
    "plt.show()"
   ]
  },
  {
   "cell_type": "code",
   "execution_count": 65,
   "metadata": {},
   "outputs": [
    {
     "data": {
      "text/plain": [
       "-1.062011504901373e-14"
      ]
     },
     "execution_count": 65,
     "metadata": {},
     "output_type": "execute_result"
    }
   ],
   "source": [
    "residuals.mean()"
   ]
  },
  {
   "cell_type": "code",
   "execution_count": 1,
   "metadata": {},
   "outputs": [],
   "source": [
    "from sklearn.model_selection import train_test_split"
   ]
  },
  {
   "cell_type": "code",
   "execution_count": null,
   "metadata": {},
   "outputs": [],
   "source": []
  },
  {
   "cell_type": "code",
   "execution_count": null,
   "metadata": {},
   "outputs": [],
   "source": []
  },
  {
   "cell_type": "code",
   "execution_count": null,
   "metadata": {},
   "outputs": [],
   "source": []
  },
  {
   "cell_type": "code",
   "execution_count": null,
   "metadata": {},
   "outputs": [],
   "source": []
  },
  {
   "cell_type": "code",
   "execution_count": null,
   "metadata": {},
   "outputs": [],
   "source": []
  },
  {
   "cell_type": "code",
   "execution_count": null,
   "metadata": {},
   "outputs": [],
   "source": []
  }
 ],
 "metadata": {
  "kernelspec": {
   "display_name": "Python 3",
   "language": "python",
   "name": "python3"
  },
  "language_info": {
   "codemirror_mode": {
    "name": "ipython",
    "version": 3
   },
   "file_extension": ".py",
   "mimetype": "text/x-python",
   "name": "python",
   "nbconvert_exporter": "python",
   "pygments_lexer": "ipython3",
   "version": "3.8.1"
  }
 },
 "nbformat": 4,
 "nbformat_minor": 4
}
